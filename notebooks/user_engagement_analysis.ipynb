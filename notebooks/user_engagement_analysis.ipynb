{
 "cells": [
  {
   "cell_type": "code",
   "execution_count": 7,
   "metadata": {},
   "outputs": [],
   "source": [
    "# Add the src directory to the Python path\n",
    "import sys\n",
    "sys.path.append('../src')\n",
    "# Import necessary modules\n",
    "from data_connection import fetch_xdr_data\n",
    "from cleaned_data import clean_data\n",
    "from User_Engagement_analysis import aggregate_engagement_metrics, report_top_customers, normalize_and_cluster, compute_cluster_stats\n",
    "from visualization import plot_cluster_stats\n"
   ]
  },
  {
   "cell_type": "code",
   "execution_count": 8,
   "metadata": {},
   "outputs": [],
   "source": [
    "\n",
    "# Fetch data from PostgreSQL\n",
    "xdr_data = fetch_xdr_data()\n"
   ]
  },
  {
   "cell_type": "code",
   "execution_count": 9,
   "metadata": {},
   "outputs": [],
   "source": [
    "# Aggregate data per user\n",
    "aggregated_data = aggregate_engagement_metrics(xdr_data)"
   ]
  },
  {
   "cell_type": "code",
   "execution_count": 10,
   "metadata": {},
   "outputs": [],
   "source": [
    "cleaned_data = clean_data(aggregated_data)"
   ]
  },
  {
   "cell_type": "code",
   "execution_count": 11,
   "metadata": {},
   "outputs": [
    {
     "name": "stdout",
     "output_type": "stream",
     "text": [
      "\n",
      "Top 10 customers by Session Duration:\n",
      "     MSISDN/Number  session_duration\n",
      "8     3.360204e+10          325035.5\n",
      "33    3.360204e+10          325035.5\n",
      "121   3.360204e+10          325035.5\n",
      "125   3.360204e+10          325035.5\n",
      "127   3.360204e+10          325035.5\n",
      "133   3.360204e+10          325035.5\n",
      "147   3.360204e+10          325035.5\n",
      "154   3.360204e+10          325035.5\n",
      "171   3.360204e+10          325035.5\n",
      "181   3.360204e+10          325035.5\n",
      "\n",
      "Top 10 customers by Session Duration:\n",
      "     MSISDN/Number  session_duration\n",
      "8     3.360204e+10          325035.5\n",
      "33    3.360204e+10          325035.5\n",
      "121   3.360204e+10          325035.5\n",
      "125   3.360204e+10          325035.5\n",
      "127   3.360204e+10          325035.5\n",
      "133   3.360204e+10          325035.5\n",
      "147   3.360204e+10          325035.5\n",
      "154   3.360204e+10          325035.5\n",
      "171   3.360204e+10          325035.5\n",
      "181   3.360204e+10          325035.5\n",
      "\n",
      "Top 10 customers by Total Traffic:\n",
      "     MSISDN/Number  total_traffic\n",
      "20    3.360204e+10   1.605763e+09\n",
      "29    3.360204e+10   1.605763e+09\n",
      "57    3.360204e+10   1.605763e+09\n",
      "133   3.360204e+10   1.605763e+09\n",
      "147   3.360204e+10   1.605763e+09\n",
      "198   3.360204e+10   1.605763e+09\n",
      "211   3.360204e+10   1.605763e+09\n",
      "231   3.360204e+10   1.605763e+09\n",
      "251   3.360204e+10   1.605763e+09\n",
      "291   3.360204e+10   1.605763e+09\n"
     ]
    },
    {
     "data": {
      "text/plain": [
       "{'session_duration':      MSISDN/Number  session_duration\n",
       " 8     3.360204e+10          325035.5\n",
       " 33    3.360204e+10          325035.5\n",
       " 121   3.360204e+10          325035.5\n",
       " 125   3.360204e+10          325035.5\n",
       " 127   3.360204e+10          325035.5\n",
       " 133   3.360204e+10          325035.5\n",
       " 147   3.360204e+10          325035.5\n",
       " 154   3.360204e+10          325035.5\n",
       " 171   3.360204e+10          325035.5\n",
       " 181   3.360204e+10          325035.5,\n",
       " 'total_traffic':      MSISDN/Number  total_traffic\n",
       " 20    3.360204e+10   1.605763e+09\n",
       " 29    3.360204e+10   1.605763e+09\n",
       " 57    3.360204e+10   1.605763e+09\n",
       " 133   3.360204e+10   1.605763e+09\n",
       " 147   3.360204e+10   1.605763e+09\n",
       " 198   3.360204e+10   1.605763e+09\n",
       " 211   3.360204e+10   1.605763e+09\n",
       " 231   3.360204e+10   1.605763e+09\n",
       " 251   3.360204e+10   1.605763e+09\n",
       " 291   3.360204e+10   1.605763e+09}"
      ]
     },
     "execution_count": 11,
     "metadata": {},
     "output_type": "execute_result"
    }
   ],
   "source": [
    "report_top_customers(cleaned_data)"
   ]
  }
 ],
 "metadata": {
  "kernelspec": {
   "display_name": "env",
   "language": "python",
   "name": "python3"
  },
  "language_info": {
   "codemirror_mode": {
    "name": "ipython",
    "version": 3
   },
   "file_extension": ".py",
   "mimetype": "text/x-python",
   "name": "python",
   "nbconvert_exporter": "python",
   "pygments_lexer": "ipython3",
   "version": "3.10.5"
  }
 },
 "nbformat": 4,
 "nbformat_minor": 2
}
